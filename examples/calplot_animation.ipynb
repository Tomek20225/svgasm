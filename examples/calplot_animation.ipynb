version https://git-lfs.github.com/spec/v1
oid sha256:56128ee26ad44674a51dbdd4c0c303a56a7af396af1c61c41bfe225eaee6d6c8
size 702972
